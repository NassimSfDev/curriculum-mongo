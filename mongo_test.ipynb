{
 "cells": [
  {
   "cell_type": "code",
   "execution_count": null,
   "metadata": {},
   "outputs": [],
   "source": [
    "pip install 'pymongo[srv]'"
   ]
  },
  {
   "cell_type": "code",
   "execution_count": null,
   "metadata": {},
   "outputs": [],
   "source": [
    "pip install python-dotenv"
   ]
  },
  {
   "cell_type": "code",
   "execution_count": null,
   "metadata": {},
   "outputs": [],
   "source": [
    "pip install --upgrade google-cloud-datastore"
   ]
  },
  {
   "cell_type": "code",
   "execution_count": null,
   "metadata": {},
   "outputs": [],
   "source": [
    "from google.cloud import datastore\n",
    "import json  \n",
    "from dotenv import load_dotenv\n",
    "import os\n",
    "from pymongo import TEXT, MongoClient"
   ]
  },
  {
   "cell_type": "code",
   "execution_count": null,
   "metadata": {},
   "outputs": [],
   "source": [
    "\n",
    "\n",
    "if __name__ == \"__main__\":\n",
    "\n",
    "    load_dotenv(override=True)\n",
    "\n",
    "    # mongo client\n",
    "    mongo_client = MongoClient(os.getenv('MONGO_URL'))\n",
    "\n",
    "    db = mongo_client.sfeir_curriculum\n",
    "    cv_collection = db.curriculums\n",
    "    user_collection = db.users\n",
    "\n",
    "    # datastore gcp client\n",
    "    datastore_client = datastore.Client(namespace=os.getenv('DATASTORE_NAMESPACE'))\n",
    "\n",
    "    # to query datastore db\n",
    "    cvs_query = datastore_client.query(kind='curriculums')\n",
    "    users_query = datastore_client.query(kind='users')\n",
    "\n",
    "    # convert datastore entities to json\n",
    "    curriculums = [ json.loads(json.dumps(cv)) for cv in list(cvs_query.fetch()) ]\n",
    "    users = [ json.loads(json.dumps(user)) for user in list(users_query.fetch()) ]\n",
    "\n",
    "    # save data in mongo\n",
    "    cv_collection.insert_many(curriculums)\n",
    "    user_collection.insert_many(users)\n",
    "\n",
    "    # create mongo index in curriculums\n",
    "    cv_collection.create_index([('$**', TEXT)], name='cv_index', default_language='french')\n"
   ]
  },
  {
   "cell_type": "code",
   "execution_count": null,
   "metadata": {},
   "outputs": [],
   "source": [
    "input_search = 'full stack java angular'\n",
    "load_dotenv(override=True)\n",
    "\n",
    "# mongo client\n",
    "mongo_client = MongoClient(os.getenv('MONGO_URL'))\n",
    "db = mongo_client.sfeir_curriculum\n",
    "cv_collection = db.curriculums\n",
    "user_collection = db.users\n",
    "\n",
    "result = list(cv_collection.find(\n",
    "    {\n",
    "        \"$text\": { \"$search\": input_search }\n",
    "    },\n",
    "    {\n",
    "        \"score\": { \"$meta\": \"textScore\" }\n",
    "    }\n",
    ").sort( { \"score\": { \"$meta\": \"textScore\" } } ))\n",
    "\n",
    "print(len(result))\n",
    "result.reverse()\n"
   ]
  }
 ],
 "metadata": {
  "kernelspec": {
   "display_name": "Python 3",
   "language": "python",
   "name": "python3"
  },
  "language_info": {
   "codemirror_mode": {
    "name": "ipython",
    "version": 3
   },
   "file_extension": ".py",
   "mimetype": "text/x-python",
   "name": "python",
   "nbconvert_exporter": "python",
   "pygments_lexer": "ipython3",
   "version": "3.11.8"
  }
 },
 "nbformat": 4,
 "nbformat_minor": 2
}
