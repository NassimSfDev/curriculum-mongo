{
 "cells": [
  {
   "cell_type": "code",
   "execution_count": null,
   "metadata": {},
   "outputs": [],
   "source": [
    "pip install 'pymongo[srv]'"
   ]
  },
  {
   "cell_type": "code",
   "execution_count": null,
   "metadata": {},
   "outputs": [],
   "source": [
    "class CVRepository:\n",
    "    def saveAll(self, cvs): pass\n",
    "    def search(self, key): pass"
   ]
  },
  {
   "cell_type": "code",
   "execution_count": null,
   "metadata": {},
   "outputs": [],
   "source": [
    "import json\n",
    "from pymongo import InsertOne\n",
    "from pymongo import MongoClient"
   ]
  },
  {
   "cell_type": "code",
   "execution_count": null,
   "metadata": {},
   "outputs": [],
   "source": [
    "class MongoCVRepository(CVRepository):\n",
    "\n",
    "    def __init__(self, collection) -> None:\n",
    "        super().__init__()\n",
    "        self.cvCollection = collection\n",
    "\n",
    "    def saveAll(self, cvs):\n",
    "        id = 1\n",
    "        for o in cvs:\n",
    "            print(o)\n",
    "            o['_id'] = id\n",
    "            id = id + 1\n",
    "            self.cvCollection.insert_one(o)\n",
    "    \n",
    "    def search(self, key):\n",
    "        return super().search(key)"
   ]
  },
  {
   "cell_type": "code",
   "execution_count": null,
   "metadata": {},
   "outputs": [],
   "source": [
    "pip install python-dotenv"
   ]
  },
  {
   "cell_type": "code",
   "execution_count": null,
   "metadata": {},
   "outputs": [],
   "source": [
    "class JsonDataProvider():\n",
    "    def getData(self): pass"
   ]
  },
  {
   "cell_type": "code",
   "execution_count": null,
   "metadata": {},
   "outputs": [],
   "source": [
    "class FileJsonData(JsonDataProvider):\n",
    "    def __init__(self, files) -> None:\n",
    "        super().__init__()\n",
    "        self.files = files\n",
    "\n",
    "    def getData(self):\n",
    "        #data = []\n",
    "        for fileName in self.files:\n",
    "            with open(fileName, \"r\") as f:\n",
    "                return json.load(f)\n",
    "        #return data\n"
   ]
  },
  {
   "cell_type": "code",
   "execution_count": null,
   "metadata": {},
   "outputs": [],
   "source": [
    "pip install elasticsearch"
   ]
  },
  {
   "cell_type": "code",
   "execution_count": null,
   "metadata": {},
   "outputs": [],
   "source": [
    "from dotenv import load_dotenv\n",
    "import os\n",
    "from elasticsearch import Elasticsearch"
   ]
  },
  {
   "cell_type": "code",
   "execution_count": null,
   "metadata": {},
   "outputs": [],
   "source": [
    "from dotenv import load_dotenv\n",
    "import os\n",
    "\n",
    "if __name__ == \"__main__\":\n",
    "    load_dotenv(override=True)\n",
    "    print(os.getenv('MONGO_URL'))\n",
    "    client = MongoClient(os.getenv('MONGO_URL'))\n",
    "    repo = MongoCVRepository(collection=client.db.movie)\n",
    "    dataProvider = FileJsonData([\"data/movies.json\"])\n",
    "    repo.saveAll(dataProvider.getData())\n",
    "    client.close()"
   ]
  },
  {
   "cell_type": "code",
   "execution_count": null,
   "metadata": {},
   "outputs": [],
   "source": [
    "from pymongo import TEXT\n",
    "if __name__ == \"__main__\":\n",
    "    print(os.getenv('MONGO_URL'))\n",
    "    client = MongoClient(os.getenv('MONGO_URL'))\n",
    "    db = client.db\n",
    "    collection = db.movie\n",
    "\n",
    "    collection.create_index([('$**', TEXT)], name='search_index', default_language='english')\n"
   ]
  },
  {
   "cell_type": "markdown",
   "metadata": {},
   "source": [
    "db.recipes.find(\n",
    "    { $text: { $search: \"spiced espresso\" } },\n",
    "    { score: { $meta: \"textScore\" } }\n",
    ").sort(\n",
    "    { score: { $meta: \"textScore\" } }\n",
    ");"
   ]
  },
  {
   "cell_type": "code",
   "execution_count": null,
   "metadata": {},
   "outputs": [],
   "source": [
    "result = collection.find({\"$text\": {\"$search\": 'java nodejs react'}})\n",
    "\n",
    "for line in result:\n",
    "    print(line)"
   ]
  },
  {
   "cell_type": "code",
   "execution_count": null,
   "metadata": {},
   "outputs": [],
   "source": [
    "result = collection.aggregate([\n",
    "    {\"$match\": {\"$text\": {\"$search\": 'java nodejs react'}}},\n",
    "    {\"$group\": {\n",
    "        \"_id\":\"$_id.word\",\n",
    "      \"occurrences\":{\n",
    "        \n",
    "        \"$push\":{\n",
    "          \"doc\":\"$_id.doc\",\n",
    "          \"field\":\"$_id.field\"\n",
    "        } \n",
    "      },\n",
    "      \"score\":{\"$sum\":\"$value\"}\n",
    "    }}\n",
    "])\n",
    "\n",
    "count = 0\n",
    "for x in result:\n",
    "    count = count + 1\n",
    "    print(x)\n",
    "print(count)"
   ]
  },
  {
   "cell_type": "markdown",
   "metadata": {},
   "source": [
    ".aggregate(\n",
    "  {\n",
    "    $group:{\n",
    "      _id:\"$_id.word\",\n",
    "      occurences:{ $push:{doc:\"$_id.doc\",field:\"$_id.field\"}},\n",
    "      score:{$sum:\"$value\"}\n",
    "     }\n",
    "   },{\n",
    "     $out:\"search\"\n",
    "   })"
   ]
  }
 ],
 "metadata": {
  "kernelspec": {
   "display_name": "Python 3",
   "language": "python",
   "name": "python3"
  },
  "language_info": {
   "codemirror_mode": {
    "name": "ipython",
    "version": 3
   },
   "file_extension": ".py",
   "mimetype": "text/x-python",
   "name": "python",
   "nbconvert_exporter": "python",
   "pygments_lexer": "ipython3",
   "version": "3.11.8"
  }
 },
 "nbformat": 4,
 "nbformat_minor": 2
}
